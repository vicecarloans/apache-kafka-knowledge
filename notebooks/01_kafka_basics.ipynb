{
 "cells": [
  {
   "cell_type": "markdown",
   "metadata": {
    "slideshow": {
     "slide_type": "slide"
    }
   },
   "source": [
    "# Apache Kafka: The Father of Distributed Messaging Platforms"
   ]
  },
  {
   "cell_type": "markdown",
   "metadata": {
    "jp-MarkdownHeadingCollapsed": true,
    "slideshow": {
     "slide_type": "slide"
    }
   },
   "source": [
    "## History"
   ]
  },
  {
   "cell_type": "markdown",
   "metadata": {
    "slideshow": {
     "slide_type": "slide"
    }
   },
   "source": [
    "Kafka is a distributed streaming platform which was written by Franz Kafka who was a famous author in the 19th century. He wrote a book called \"The Metamorphosis\".\n",
    "<div style=\"display: flex; height: auto;\">\n",
    "<img src=\"../images/franz-kafka.jpeg\" alt=\"Franz Kafka\" style=\"height: 100%; width: 50%;\">\n",
    "\n",
    "<img src=\"../images/metamorphosis.jpg\" alt=\"Metamorphosis\" style=\"height: 100%; width: 50%;\">\n",
    "</div>"
   ]
  },
  {
   "cell_type": "markdown",
   "metadata": {
    "slideshow": {
     "slide_type": "slide"
    }
   },
   "source": [
    "### Just kidding!\n",
    "\n",
    "It was created by Linkedin. They named it after the famous author Franz Kafka as it is a system that optimizes for \"writing\"\n",
    "\n",
    "Kafka is an influence of other distributed streaming platforms such as AWS Kinesis and Google Cloud Pub/Sub.\n"
   ]
  },
  {
   "cell_type": "markdown",
   "metadata": {
    "jp-MarkdownHeadingCollapsed": true,
    "slideshow": {
     "slide_type": "slide"
    }
   },
   "source": [
    "## Kafka Architecture at Coinsquare\n",
    "\n"
   ]
  },
  {
   "cell_type": "markdown",
   "metadata": {
    "slideshow": {
     "slide_type": "slide"
    }
   },
   "source": [
    "<img src=\"../images/apache-kafka.png\" alt=\"Kafka Architecture\" style=\"height: 85%;\">"
   ]
  },
  {
   "cell_type": "markdown",
   "metadata": {
    "jp-MarkdownHeadingCollapsed": true,
    "slideshow": {
     "slide_type": "slide"
    }
   },
   "source": [
    "## Kafka Concepts"
   ]
  },
  {
   "cell_type": "markdown",
   "metadata": {
    "slideshow": {
     "slide_type": "subslide"
    }
   },
   "source": [
    "\n",
    "- **Topics**: a queue where messages will be published to\n",
    "\n",
    "- **Partitions**: enables parallelism in Kafka. One topic can have multiple partitions\n",
    "\n",
    "- **Apache Avro**: Schema Registry. Used to defined a typed-strong message and validate it before sending out. Messages can be serialized in binary\n",
    "\n",
    "- **Producer**: Publish messages\n",
    "\n",
    "- **Messages**: Data being published by producer (Duh) which can then be consumed in downstream services. Messages are immutable and can only be changed by publishing a new message.\n",
    "\n",
    "- **Offset**: Messages are arrived in order and their position is tracked by an offset.\n",
    "\n",
    "- **Consumer**: End client that consumes messages from a partition\n",
    "\n",
    "- **Consumer Group**: Kafka assigns the partitions of a topic to the consumers in a group so that each partition is assigned to one consumer in the group. **Two consumers in the same group will not receive the same message**. However, **Two consumers in different groups can receive the same message**. Distribution rules are defined as:\n",
    "    - If consumers < partitions: Some consumers will handle multiple partitions\n",
    "    - If consumers = partitions: Each consumer gets one partition\n",
    "    - If consumers > partitions: Some consumers will be idle\n",
    "    - When a consumer fails, the partitions assigned to it will be reassigned to another consumer in the same group.\n",
    "\n"
   ]
  },
  {
   "cell_type": "markdown",
   "metadata": {
    "slideshow": {
     "slide_type": "subslide"
    }
   },
   "source": [
    "- **KRaft or ZooKeeper**: Manage Cluster (CPU, Memory, Topic, Partition Balancing). ZooKeeper is a dependency for old version of Kafka whereas KRaft is enabled natively in the new version 2.8+\n",
    "\n",
    "- **Broker**: A Kafka server node that is responsible for multiple partitions of multiple topics. A broker can be elected to be a leader that is responsible for replicating data across partitions\n",
    "\n",
    "- **Exactly-once Delivery**: Kafka’s Transactional API can ensure each message to be processed exactly once.\n",
    "\n",
    "- **At-least-once Delivery**: Messages never lost but can be processed more than once. This happens if offsets are failed to committed (due to network, consumer crash)\n",
    "\n",
    "- **Dead Letter Queue**: Kafka does not provide built-in DLQ like services such as PubSub or SQS. You have to implement a topic and a library to send to dead letter queue.\n",
    "\n",
    "- **Retry Strategy**: Kafka does not provide built-in retry mechanism per topic. You have to either do that at Consumer level or create a bunch of retry topics with different delays\n",
    "\n",
    "- **Kafka Connect**: Kafka connector to connect to external systems such as databases, S3, etc."
   ]
  },
  {
   "cell_type": "markdown",
   "metadata": {},
   "source": [
    "## Demo (Chat Room)"
   ]
  },
  {
   "cell_type": "markdown",
   "metadata": {},
   "source": [
    "./samples/chat-room"
   ]
  }
 ],
 "metadata": {
  "celltoolbar": "Slideshow",
  "kernelspec": {
   "display_name": "Python 3 (ipykernel)",
   "language": "python",
   "name": "python3"
  },
  "language_info": {
   "codemirror_mode": {
    "name": "ipython",
    "version": 3
   },
   "file_extension": ".py",
   "mimetype": "text/x-python",
   "name": "python",
   "nbconvert_exporter": "python",
   "pygments_lexer": "ipython3",
   "version": "3.10.15"
  }
 },
 "nbformat": 4,
 "nbformat_minor": 4
}
